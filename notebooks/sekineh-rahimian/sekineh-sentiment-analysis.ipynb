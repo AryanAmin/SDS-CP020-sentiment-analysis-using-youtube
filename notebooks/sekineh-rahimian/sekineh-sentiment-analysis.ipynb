{
 "cells": [
  {
   "cell_type": "code",
   "execution_count": 9,
   "metadata": {},
   "outputs": [],
   "source": [
    "import pandas as pd \n",
    "\n",
    "from googleapiclient.discovery import build\n",
    "\n",
    "API_KEY = ''\n",
    "\n",
    "VIDEO_ID = 'BNArBr_J8mA'\n",
    "\n",
    "# Function to get comments for a video\n",
    "def get_comments(video_id, api_key):\n",
    "    youtube = build('youtube', 'v3', developerKey=api_key)\n",
    "    request = youtube.commentThreads().list(\n",
    "        part='snippet',\n",
    "        videoId=video_id,\n",
    "        maxResults=100\n",
    "    )\n",
    "    response = request.execute()\n",
    "    comments = []\n",
    "    for item in response['items']:\n",
    "        comment = item['snippet']['topLevelComment']['snippet']['textDisplay']\n",
    "        comments.append(comment)\n",
    "    return comments\n",
    "    \n",
    "\n",
    "# Get comments from the specific video\n",
    "comments = get_comments(VIDEO_ID, API_KEY)\n",
    "df = pd.DataFrame(comments)\n",
    "df.to_csv('comments.csv', index= False)"
   ]
  },
  {
   "cell_type": "code",
   "execution_count": null,
   "metadata": {},
   "outputs": [],
   "source": [
    "\n"
   ]
  }
 ],
 "metadata": {
  "kernelspec": {
   "display_name": "base",
   "language": "python",
   "name": "python3"
  },
  "language_info": {
   "codemirror_mode": {
    "name": "ipython",
    "version": 3
   },
   "file_extension": ".py",
   "mimetype": "text/x-python",
   "name": "python",
   "nbconvert_exporter": "python",
   "pygments_lexer": "ipython3",
   "version": "3.12.2"
  }
 },
 "nbformat": 4,
 "nbformat_minor": 2
}
